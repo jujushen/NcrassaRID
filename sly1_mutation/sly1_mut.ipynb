{
 "cells": [
  {
   "cell_type": "code",
   "execution_count": null,
   "id": "31cecab6-a040-489b-a140-38242c42812a",
   "metadata": {},
   "outputs": [],
   "source": [
    "#necessary modules needed \n",
    "#pandas\n",
    "#numpy\n",
    "#BioPython\n",
    "\n",
    "#softwares\n",
    "#abyss\n",
    "#Environments\n",
    "#enviroments prepare\n",
    "import pandas as pd;import numpy as np;import os;import glob;import re;from datetime import datetime\n",
    "import sys\n",
    "from Bio import SeqIO\n",
    "#import self-made functions\n",
    "#add path if necessary\n",
    "#sys.append(\"/path/to/mut11k_funcstore\")\n",
    "from mut11k_funcstore import *"
   ]
  },
  {
   "cell_type": "code",
   "execution_count": null,
   "id": "caa06b2c-0a4c-4d22-80fe-a9a30333704a",
   "metadata": {},
   "outputs": [],
   "source": [
    "#prepare the AB_11k seqs\n",
    "AB_ref=SeqIO.to_dict(SeqIO.parse(\"Sly1_11kABref.fa\",'fasta'))\n",
    "#prepare the bam list as bams\n",
    "bams=[]\n",
    "#set the parent dir before usage\n",
    "working_parent_dir=\"\"\n"
   ]
  },
  {
   "cell_type": "code",
   "execution_count": null,
   "id": "1bb730ba-0ce3-45b9-b937-895d8502802d",
   "metadata": {},
   "outputs": [],
   "source": [
    "#0 step, preppare the samples, bam list and target_directory\n",
    "# bams=glob.glob(\"/mnt/san3/usr/wnn/kohp1-realnbam/kohp1*.realn.bam\")\n",
    "samples=[os.path.basename(bam).replace(\".realn.bam\",\"\") for bam in bams]\n",
    "if not os.path.exists(working_parent_dir):os.mkdir(working_parent_dir)\n",
    "target_dirs=[os.path.join(working_parent_dir,sample) for sample in samples]"
   ]
  },
  {
   "cell_type": "code",
   "execution_count": null,
   "id": "e5a2f939-3154-4c95-8eae-bbcf05b9cc96",
   "metadata": {},
   "outputs": [],
   "source": [
    "\n",
    "#1st step. Filter reads, output fq and assemble with abyss\n",
    "for i in range(len(bams)):\n",
    "    bam_file=bams[i];sample=samples[i];target_dir=target_dirs[i]\n",
    "    from_bam_to_reads(sample,bam_file,target_dir)\n",
    "\n",
    "script_file=os.path.join(working_parent_dir,f\"run_abyss_{datetime.now().year}_{datetime.now().month}_{datetime.now().day}.sh\")\n",
    "print(script_file)\n",
    "lines=\"\"\n",
    "for i in range(len(bams)):\n",
    "    bam_file=bams[i];name=samples[i];target_dir=target_dirs[i]\n",
    "    lines+=f\"abyss-pe name={name} -C {target_dir} B=1G k=95 in='{target_dir}/{name}_1.fq {target_dir}/{name}_2.fq'\\n\"\n",
    "open(script_file,'w').write(lines)\n",
    "#run the script file in command line\n"
   ]
  },
  {
   "cell_type": "code",
   "execution_count": null,
   "id": "721d1130-c512-4fcc-b792-1edc5d1d5b20",
   "metadata": {},
   "outputs": [],
   "source": [
    "#2nd step, run the script made \n",
    "#bash /mnt/san1/usr/hj/Data/01.neurospora/05.analysis/11k_mut_denovo/denovo_20230718/run_abyss_2025_2_17.sh\n",
    "# the denovo result will be in the sample directory under parent directory\n",
    "#3rd step from scaffold to snps\n",
    "for sample in samples:\n",
    "    scaffold_align_to_frame(sample,AB_ref,AB_ref,working_parent_dir)"
   ]
  }
 ],
 "metadata": {
  "kernelspec": {
   "display_name": "Python 3 (ipykernel)",
   "language": "python",
   "name": "python3"
  },
  "language_info": {
   "codemirror_mode": {
    "name": "ipython",
    "version": 3
   },
   "file_extension": ".py",
   "mimetype": "text/x-python",
   "name": "python",
   "nbconvert_exporter": "python",
   "pygments_lexer": "ipython3",
   "version": "3.12.4"
  }
 },
 "nbformat": 4,
 "nbformat_minor": 5
}
